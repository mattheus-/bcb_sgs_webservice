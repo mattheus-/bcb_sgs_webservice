{
 "cells": [
  {
   "cell_type": "code",
   "execution_count": 362,
   "metadata": {
    "collapsed": false
   },
   "outputs": [
    {
     "name": "stdout",
     "output_type": "stream",
     "text": [
      "Acesso à API do Banco Central do Brasil (v. 0.1)\n",
      "\n",
      "Quais séries deseja recuperar (espaço entre as séries): \n",
      "Data inicial (DD/MM/AAAA): \n",
      "Data final (DD/MM/AAAA): \n",
      "Nome do arquivo de saída: \n"
     ]
    }
   ],
   "source": [
    "# Imports necessary modules\n",
    "from suds.client import Client\n",
    "import pandas as pd\n",
    "import xml.etree.ElementTree as ET\n",
    "import numpy as np\n",
    "import datetime\n",
    "\n",
    "# Loads series indexes for lookup\n",
    "series_bcb = pd.read_csv('~/Downloads/cotacoes.txt', index_col=0, header=0)\n",
    "# Lookup expression\n",
    "#   series_bcb[series_bcb['Descrição'].str.contains(\"Dólar\")==True]\n",
    "\n",
    "# User input\n",
    "print('Acesso à API do Banco Central do Brasil (v. 0.1)\\n')\n",
    "series_selecionadas = list(int(x) for x in input(\"Quais séries deseja recuperar (espaço entre as séries): \").split()) or [1, 21619]\n",
    "datainicio = str(input(\"Data inicial (DD/MM/AAAA): \") or '01/09/2014')\n",
    "datafim = str(input(\"Data final (DD/MM/AAAA): \") or '01/09/2016')\n",
    "nome_output = input(\"Nome do arquivo de saída: \") or 'BCB_SGS'\n",
    "\n",
    "# Activates WSDL and retrieves time series\n",
    "url = 'https://www3.bcb.gov.br/sgspub/JSP/sgsgeral/FachadaWSSGS.wsdl'\n",
    "bcb = Client(url)\n",
    "try:\n",
    "    dados = bcb.service.getValoresSeriesXML(series_selecionadas, datainicio, datafim)\n",
    "except Exception as detail:\n",
    "    print(detail)\n",
    "\n",
    "# Parse XML data\n",
    "root = ET.fromstring(dados)\n",
    "\n",
    "# Creates Pandas DataFrame with calandar days as index\n",
    "index = pd.date_range(datetime.datetime.strptime(datainicio, '%d/%m/%Y').strftime('%m/%d/%y'), datetime.datetime.strptime(datafim, '%d/%m/%Y').strftime('%m/%d/%y'))\n",
    "df = pd.DataFrame(index=index, columns=series_selecionadas)\n",
    "\n",
    "# Updates the DataFrame values\n",
    "for serie in range(len(root)):\n",
    "    for ponto in range(len(root[serie])):\n",
    "            df.set_value(datetime.datetime.strptime(root[serie][ponto][0].text, '%d/%m/%Y').strftime('%m/%d/%y'), int(root[serie].attrib['ID']), float(root[serie][ponto][1].text))\n",
    "df = df.apply(lambda x: pd.to_numeric(x, errors='ignore'))\n",
    "\n",
    "# Previous list generator\n",
    "#   datas = []\n",
    "#   for serie in range(len(root)):\n",
    "#       for ponto in range(len(root[serie])):\n",
    "#              datas.append([int(root[serie].attrib['ID']), root[serie][ponto][0].text, float(root[serie][ponto][1].text)])\n",
    "# Equivalent comprehension\n",
    "#   [(int(root[serie].attrib['ID']), root[serie][ponto][0].text, float(root[serie][ponto][1].text)) for serie in range(len(root)) for ponto in range(len(root[serie]))]\n",
    "\n",
    "# Export to CSV file\n",
    "series_selecionadas_nom = {}\n",
    "for x in series_selecionadas:\n",
    "    series_selecionadas_nom[x] = series_bcb.get_value(x, 'Descrição')\n",
    "df = df.dropna()\n",
    "df = df.rename(columns=series_selecionadas_nom)\n",
    "df.to_csv('~/Desktop/'+nome_output+'.csv')"
   ]
  },
  {
   "cell_type": "code",
   "execution_count": null,
   "metadata": {
    "collapsed": true
   },
   "outputs": [],
   "source": []
  }
 ],
 "metadata": {
  "anaconda-cloud": {},
  "kernelspec": {
   "display_name": "Python [Root]",
   "language": "python",
   "name": "Python [Root]"
  },
  "language_info": {
   "codemirror_mode": {
    "name": "ipython",
    "version": 3
   },
   "file_extension": ".py",
   "mimetype": "text/x-python",
   "name": "python",
   "nbconvert_exporter": "python",
   "pygments_lexer": "ipython3",
   "version": "3.5.2"
  }
 },
 "nbformat": 4,
 "nbformat_minor": 0
}
